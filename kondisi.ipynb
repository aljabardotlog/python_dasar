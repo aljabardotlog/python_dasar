{
  "nbformat": 4,
  "nbformat_minor": 0,
  "metadata": {
    "colab": {
      "name": "Kondisi.ipynb",
      "provenance": [],
      "collapsed_sections": [],
      "authorship_tag": "ABX9TyMWaoBMJ/GCKfU/TVRnf4nn",
      "include_colab_link": true
    },
    "kernelspec": {
      "name": "python3",
      "display_name": "Python 3"
    }
  },
  "cells": [
    {
      "cell_type": "markdown",
      "metadata": {
        "id": "view-in-github",
        "colab_type": "text"
      },
      "source": [
        "<a href=\"https://colab.research.google.com/github/aljabardotlog/python_dasar/blob/master/kondisi.ipynb\" target=\"_parent\"><img src=\"https://colab.research.google.com/assets/colab-badge.svg\" alt=\"Open In Colab\"/></a>"
      ]
    },
    {
      "cell_type": "code",
      "metadata": {
        "id": "nCMcXWIlsm7t",
        "colab_type": "code",
        "colab": {
          "base_uri": "https://localhost:8080/",
          "height": 34
        },
        "outputId": "0a028f77-884b-496b-a5f7-d04348040b35"
      },
      "source": [
        "a = 3\n",
        "b = 2\n",
        "c = b == a\n",
        "\n",
        "c"
      ],
      "execution_count": 37,
      "outputs": [
        {
          "output_type": "execute_result",
          "data": {
            "text/plain": [
              "False"
            ]
          },
          "metadata": {
            "tags": []
          },
          "execution_count": 37
        }
      ]
    },
    {
      "cell_type": "markdown",
      "metadata": {
        "id": "DI7a6EbWfzHy",
        "colab_type": "text"
      },
      "source": [
        "#Kondisi (if else)\n",
        "\n",
        "Contoh Kasus\n",
        "\n",
        "Budi adalah seorang siswa pada SD ADA AJA. Sekolah ini sekolah swasta. Nilai hujian Budi pada 3 matapelajaran adalah sebagai berikut :\n",
        "\n",
        "Matematika = 77\n",
        "English = 80\n",
        "Bahasa Indonesia = 90\n",
        "\n",
        "\n",
        "\n",
        "1. Apakah Budi Berhasil lulus ujian dengan rata-rata nilai standar harus mencapai 80% ?\n",
        "2. Berapa Nilai Budi dalam abjad dengan ketentuan bahwa A > 95, B > 85 dan C >= 80 ?\n",
        "\n"
      ]
    },
    {
      "cell_type": "code",
      "metadata": {
        "id": "00rLFblrfwt6",
        "colab_type": "code",
        "colab": {
          "base_uri": "https://localhost:8080/",
          "height": 34
        },
        "outputId": "8ee2a834-fa03-4855-ebef-ab7b2a72ed04"
      },
      "source": [
        "#Soal 1\n",
        "m = 77\n",
        "e = 60\n",
        "b = 50\n",
        "\n",
        "score = (m+e+b)/3\n",
        "\n",
        "if score >= 80:\n",
        "  print(\"Budi Lulus! dengan nilai \"+str(round(score, 2)))\n",
        "else:\n",
        "  print(\"Budi Tidak Lulus! \"+str(round(score, 2)))"
      ],
      "execution_count": 46,
      "outputs": [
        {
          "output_type": "stream",
          "text": [
            "Budi Tidak Lulus! 62.33\n"
          ],
          "name": "stdout"
        }
      ]
    },
    {
      "cell_type": "code",
      "metadata": {
        "id": "KQE-yxFWwN5x",
        "colab_type": "code",
        "colab": {
          "base_uri": "https://localhost:8080/",
          "height": 34
        },
        "outputId": "2bd54108-f197-4e68-bc42-981a11646e3f"
      },
      "source": [
        "#Soal 2\n",
        "if score>95:\n",
        "  print(\"Budi Lulus dan mendapat nilai A\")\n",
        "elif score > 85:\n",
        "  print(\"Budi Lulus dan mendapat nilai B\")\n",
        "elif score >= 80:\n",
        "  print(\"Budi Lulus dan mendapat nilai C\")\n",
        "else:\n",
        "  print(\"Budi Tidak Lulus!\")"
      ],
      "execution_count": 42,
      "outputs": [
        {
          "output_type": "stream",
          "text": [
            "Budi Tidak Lulus!\n"
          ],
          "name": "stdout"
        }
      ]
    },
    {
      "cell_type": "code",
      "metadata": {
        "id": "CAvmajp5xul5",
        "colab_type": "code",
        "colab": {}
      },
      "source": [
        "|"
      ],
      "execution_count": null,
      "outputs": []
    }
  ]
}