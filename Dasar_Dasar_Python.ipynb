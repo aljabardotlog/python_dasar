{
  "nbformat": 4,
  "nbformat_minor": 0,
  "metadata": {
    "colab": {
      "name": "Dasar Dasar Python.ipynb",
      "provenance": [],
      "collapsed_sections": [],
      "authorship_tag": "ABX9TyNHyOMovJdB6Pje6DD6Bedv",
      "include_colab_link": true
    },
    "kernelspec": {
      "name": "python3",
      "display_name": "Python 3"
    }
  },
  "cells": [
    {
      "cell_type": "markdown",
      "metadata": {
        "id": "view-in-github",
        "colab_type": "text"
      },
      "source": [
        "<a href=\"https://colab.research.google.com/github/aljabardotlog/python_dasar/blob/master/Dasar_Dasar_Python.ipynb\" target=\"_parent\"><img src=\"https://colab.research.google.com/assets/colab-badge.svg\" alt=\"Open In Colab\"/></a>"
      ]
    },
    {
      "cell_type": "markdown",
      "metadata": {
        "id": "p1S-AHAcpvTw",
        "colab_type": "text"
      },
      "source": [
        "#**Python Dasar**\n",
        "\n",
        "\n",
        "\n",
        "1.   Instalasi python windows, linux, mac.\n",
        "2.   path bin.\n",
        "3.   IDE\n",
        "\n"
      ]
    },
    {
      "cell_type": "code",
      "metadata": {
        "id": "JDgGFC0Iomvf",
        "colab_type": "code",
        "colab": {
          "base_uri": "https://localhost:8080/",
          "height": 34
        },
        "outputId": "0c3f0cc7-37c4-4511-c968-c7ff0bae5d02"
      },
      "source": [
        "!python --version"
      ],
      "execution_count": null,
      "outputs": [
        {
          "output_type": "stream",
          "text": [
            "Python 3.6.9\n"
          ],
          "name": "stdout"
        }
      ]
    },
    {
      "cell_type": "code",
      "metadata": {
        "id": "YdxW50vtotI3",
        "colab_type": "code",
        "colab": {
          "base_uri": "https://localhost:8080/",
          "height": 34
        },
        "outputId": "04a0b7eb-2ad3-4e31-84b3-78be33c990f4"
      },
      "source": [
        "print(\"Hello World!\")"
      ],
      "execution_count": null,
      "outputs": [
        {
          "output_type": "stream",
          "text": [
            "Hello World!\n"
          ],
          "name": "stdout"
        }
      ]
    },
    {
      "cell_type": "code",
      "metadata": {
        "id": "LUfWsyYvuVEw",
        "colab_type": "code",
        "colab": {
          "base_uri": "https://localhost:8080/",
          "height": 34
        },
        "outputId": "d8c51ea6-1262-499c-ecfc-c11b3672bcea"
      },
      "source": [
        "# Luas Persegi Panjang\n",
        "\n",
        "p = 50\n",
        "l = 75\n",
        "\n",
        "luas_pp = p * l\n",
        "\n",
        "print(\"Luas Persegi Panjang = \"+str(luas_pp))"
      ],
      "execution_count": null,
      "outputs": [
        {
          "output_type": "stream",
          "text": [
            "Luas Persegi Panjang = 3750\n"
          ],
          "name": "stdout"
        }
      ]
    },
    {
      "cell_type": "code",
      "metadata": {
        "id": "3DBLVBObtwCq",
        "colab_type": "code",
        "colab": {
          "base_uri": "https://localhost:8080/",
          "height": 34
        },
        "outputId": "1dda4f12-df26-44af-e9bc-36a5b9af5af8"
      },
      "source": [
        "# Luas Segitiga\n",
        "\n",
        "a = 10\n",
        "t = 3\n",
        "\n",
        "luas_segitiga = 1/2 * a * t\n",
        "\n",
        "print(\"Luas Segitiga = \"+str(luas_segitiga))"
      ],
      "execution_count": null,
      "outputs": [
        {
          "output_type": "stream",
          "text": [
            "Luas Segitiga = 15.0\n"
          ],
          "name": "stdout"
        }
      ]
    },
    {
      "cell_type": "code",
      "metadata": {
        "id": "lxaRLERFt773",
        "colab_type": "code",
        "colab": {
          "base_uri": "https://localhost:8080/",
          "height": 34
        },
        "outputId": "23e511f3-bab3-4181-b6b3-10b74d79251a"
      },
      "source": [
        "# Luas Persegi\n",
        "s = 5\n",
        "\n",
        "print(\"Luas Persegi = \"+str(s*s))"
      ],
      "execution_count": null,
      "outputs": [
        {
          "output_type": "stream",
          "text": [
            "Luas Persegi = 25\n"
          ],
          "name": "stdout"
        }
      ]
    },
    {
      "cell_type": "code",
      "metadata": {
        "id": "XaCyugx92HWw",
        "colab_type": "code",
        "colab": {
          "base_uri": "https://localhost:8080/",
          "height": 34
        },
        "outputId": "ec0ffacd-51c0-452a-b416-1df9fcaf78c4"
      },
      "source": [
        "kata = 'Kami sedang belajar python di channel Aljabar Dot Log'\n",
        "\n",
        "print(kata)"
      ],
      "execution_count": null,
      "outputs": [
        {
          "output_type": "stream",
          "text": [
            "Kami sedang belajar python di channel Aljabar Dot Log\n"
          ],
          "name": "stdout"
        }
      ]
    },
    {
      "cell_type": "code",
      "metadata": {
        "id": "7M0QY5812njb",
        "colab_type": "code",
        "colab": {
          "base_uri": "https://localhost:8080/",
          "height": 50
        },
        "outputId": "2fb92ccf-0e05-4b95-c1b5-a09c12261047"
      },
      "source": [
        "kata = 'Kami sedang belajar python \\ndi channel Aljabar Dot Log'\n",
        "\n",
        "print(kata)"
      ],
      "execution_count": null,
      "outputs": [
        {
          "output_type": "stream",
          "text": [
            "Kami sedang belajar python \n",
            "di channel Aljabar Dot Log\n"
          ],
          "name": "stdout"
        }
      ]
    },
    {
      "cell_type": "code",
      "metadata": {
        "id": "VjBYVCim8mLL",
        "colab_type": "code",
        "colab": {
          "base_uri": "https://localhost:8080/",
          "height": 50
        },
        "outputId": "96d26514-5715-49a3-a546-f6d382d3e2ba"
      },
      "source": [
        "kata1 = 'Kami sedang belajar python'\n",
        "kata2 = 'di channel Aljabar Dot Log'\n",
        "\n",
        "print(kata1)\n",
        "print(kata2)"
      ],
      "execution_count": null,
      "outputs": [
        {
          "output_type": "stream",
          "text": [
            "Kami sedang belajar python\n",
            "di channel Aljabar Dot Log\n"
          ],
          "name": "stdout"
        }
      ]
    },
    {
      "cell_type": "code",
      "metadata": {
        "id": "x0dz5wgOONz5",
        "colab_type": "code",
        "colab": {}
      },
      "source": [
        ""
      ],
      "execution_count": null,
      "outputs": []
    }
  ]
}